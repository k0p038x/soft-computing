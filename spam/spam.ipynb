{
 "cells": [
  {
   "cell_type": "code",
   "execution_count": 1,
   "metadata": {},
   "outputs": [],
   "source": [
    "import os\n",
    "import numpy as np\n",
    "import pandas as pd\n",
    "import re\n",
    "from collections import defaultdict"
   ]
  },
  {
   "cell_type": "code",
   "execution_count": 2,
   "metadata": {},
   "outputs": [],
   "source": [
    "file = open(os.getcwd() + '/spam.txt', \"r\")\n",
    "\n",
    "data = []\n",
    "for line in file:\n",
    "    line = re.sub('[.,\\n\"&()\\']','',line)\n",
    "    line = re.sub('\\s+',' ',line)\n",
    "    data.append(line)\n",
    "\n",
    "label = []\n",
    "message = []\n",
    "for i in range(len(data)):\n",
    "    idx = data[i].find(' ')\n",
    "    label.append(data[i][:idx])\n",
    "    message.append(data[i][idx+1:])\n",
    "\n",
    "count = len(message)\n",
    "idx = int(count*.8)\n",
    "test_message = message[idx:]\n",
    "test_label = label[idx:]\n",
    "label = label[:idx]\n",
    "message = message[:idx]"
   ]
  },
  {
   "cell_type": "code",
   "execution_count": 3,
   "metadata": {},
   "outputs": [],
   "source": [
    "mp = defaultdict(dict)\n",
    "count_spam = 0\n",
    "count_ham = 0\n",
    "\n",
    "for i in range(len(message)):\n",
    "    \n",
    "    if label[i]=='ham':\n",
    "        count_ham+=1\n",
    "    else:\n",
    "        count_spam+=1\n",
    "        \n",
    "    words = message[i].split(' ')\n",
    "    for w in words:\n",
    "        try:\n",
    "            mp[label[i]][w]+=1\n",
    "        except KeyError:\n",
    "            mp[label[i]][w]=1\n"
   ]
  },
  {
   "cell_type": "code",
   "execution_count": 4,
   "metadata": {},
   "outputs": [
    {
     "name": "stdout",
     "output_type": "stream",
     "text": [
      "602\n",
      "3856\n"
     ]
    }
   ],
   "source": [
    "print(count_spam)\n",
    "print(count_ham)"
   ]
  },
  {
   "cell_type": "code",
   "execution_count": 5,
   "metadata": {},
   "outputs": [],
   "source": [
    "ans = defaultdict(dict)\n",
    "\n",
    "for idx in range(len(test_message)):\n",
    "    prob_ham = 1.0\n",
    "    prob_spam = 1.0\n",
    "    \n",
    "    words = test_message[idx].split()\n",
    "    for w in words:\n",
    "        try:\n",
    "            mp['ham'][w]+=0\n",
    "        except KeyError:\n",
    "            mp['ham'][w]=0\n",
    "        prob_ham*=(mp['ham'][w]+1/count_ham)\n",
    "        \n",
    "        try:\n",
    "            mp['spam'][w]+=0\n",
    "        except KeyError:\n",
    "            mp['spam'][w]=0\n",
    "        prob_spam*=(mp['spam'][w]+1/count_spam)\n",
    "    \n",
    "    if prob_ham > prob_spam:\n",
    "        tmp = 'ham'\n",
    "        \n",
    "    else:\n",
    "        tmp = 'spam'\n",
    "    try:\n",
    "        ans[test_label[idx]][tmp]+=1\n",
    "    except KeyError:\n",
    "        ans[test_label[idx]][tmp]=1   \n",
    "    "
   ]
  },
  {
   "cell_type": "code",
   "execution_count": 9,
   "metadata": {},
   "outputs": [
    {
     "name": "stdout",
     "output_type": "stream",
     "text": [
      "ham ham 955\n",
      "ham spam 14\n",
      "spam ham 16\n",
      "spam spam 129\n"
     ]
    },
    {
     "data": {
      "image/png": "[encoded data removed]",
      "text/plain": [
       "<Figure size 288x288 with 2 Axes>"
      ]
     },
     "metadata": {},
     "output_type": "display_data"
    },
    {
     "name": "stdout",
     "output_type": "stream",
     "text": [
      "Accuracy : 97.21973094170404\n"
     ]
    }
   ],
   "source": [
    "import matplotlib.pyplot as plt\n",
    "\n",
    "val = 0\n",
    "arr = []\n",
    "for i in {'ham', 'spam'}:\n",
    "    tmp =[]\n",
    "    for j in {'ham', 'spam'}:\n",
    "        try:\n",
    "            x = ans[i][j]\n",
    "        except KeyError:\n",
    "            x = 0\n",
    "        if i==j:\n",
    "            val+=x\n",
    "        tmp.append(x)\n",
    "        print(i,j,x)\n",
    "    arr.append(tmp)\n",
    "plt.matshow(arr)\n",
    "plt.colorbar()\n",
    "plt.show()\n",
    "print(\"Accuracy : \" + str(val*100/len(test_message)))        "
   ]
  }
 ],
 "metadata": {
  "kernelspec": {
   "display_name": "Python 3",
   "language": "python",
   "name": "python3"
  },
  "language_info": {
   "codemirror_mode": {
    "name": "ipython",
    "version": 3
   },
   "file_extension": ".py",
   "mimetype": "text/x-python",
   "name": "python",
   "nbconvert_exporter": "python",
   "pygments_lexer": "ipython3",
   "version": "3.6.5"
  },
  "varInspector": {
   "cols": {
    "lenName": 16,
    "lenType": 16,
    "lenVar": 40
   },
   "kernels_config": {
    "python": {
     "delete_cmd_postfix": "",
     "delete_cmd_prefix": "del ",
     "library": "var_list.py",
     "varRefreshCmd": "print(var_dic_list())"
    },
    "r": {
     "delete_cmd_postfix": ") ",
     "delete_cmd_prefix": "rm(",
     "library": "var_list.r",
     "varRefreshCmd": "cat(var_dic_list()) "
    }
   },
   "types_to_exclude": [
    "module",
    "function",
    "builtin_function_or_method",
    "instance",
    "_Feature"
   ],
   "window_display": false
  }
 },
 "nbformat": 4,
 "nbformat_minor": 2
}
