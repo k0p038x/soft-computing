{
 "cells": [
  {
   "cell_type": "code",
   "execution_count": 1,
   "metadata": {},
   "outputs": [],
   "source": [
    "#importing libraries\n",
    "import numpy as np\n",
    "import pandas as pd\n",
    "import matplotlib.pyplot as plt\n",
    "from math import exp\n",
    "import copy\n",
    "m = 546\n"
   ]
  },
  {
   "cell_type": "markdown",
   "metadata": {},
   "source": [
    "The next two cells implement normal equation for LWR as well as normalize for the dataset."
   ]
  },
  {
   "cell_type": "code",
   "execution_count": 2,
   "metadata": {},
   "outputs": [],
   "source": [
    "#calculates Eta matrix for the normal equation\n",
    "def calcTau(X , X1 , tau):\n",
    "    return np.exp(np.transpose(X - X1) @ (X - X1) / (-2 * tau * tau))\n",
    "\n",
    "\n",
    "def normal_eqn_lwr(X , X1 , Y , tau):    \n",
    "    eta = X @ calcTau(X , X1 , tau)\n",
    "    eta = np.transpose(eta)\n",
    "    return np.linalg.pinv(eta @ X) @ (eta @ Y)"
   ]
  },
  {
   "cell_type": "code",
   "execution_count": 3,
   "metadata": {},
   "outputs": [],
   "source": [
    "def normalize(df):\n",
    "    for column in df:\n",
    "        avg1 = (df[column].sum())/df[column].count()\n",
    "        range1 = (df[column].max() - df[column].min())\n",
    "        if(range1 == 0):\n",
    "            df[column] = 1\n",
    "            continue\n",
    "        df[column] = (df[column] - avg1)/range1\n"
   ]
  },
  {
   "cell_type": "code",
   "execution_count": 4,
   "metadata": {},
   "outputs": [
    {
     "data": {
      "text/html": [
       "<div>\n",
       "<style scoped>\n",
       "    .dataframe tbody tr th:only-of-type {\n",
       "        vertical-align: middle;\n",
       "    }\n",
       "\n",
       "    .dataframe tbody tr th {\n",
       "        vertical-align: top;\n",
       "    }\n",
       "\n",
       "    .dataframe thead th {\n",
       "        text-align: right;\n",
       "    }\n",
       "</style>\n",
       "<table border=\"1\" class=\"dataframe\">\n",
       "  <thead>\n",
       "    <tr style=\"text-align: right;\">\n",
       "      <th></th>\n",
       "      <th>Unnamed: 0</th>\n",
       "      <th>price</th>\n",
       "      <th>lotsize</th>\n",
       "      <th>bedrooms</th>\n",
       "      <th>bathrms</th>\n",
       "      <th>stories</th>\n",
       "      <th>garagepl</th>\n",
       "    </tr>\n",
       "  </thead>\n",
       "  <tbody>\n",
       "    <tr>\n",
       "      <th>0</th>\n",
       "      <td>1</td>\n",
       "      <td>-0.158313</td>\n",
       "      <td>0.048092</td>\n",
       "      <td>0.00696</td>\n",
       "      <td>-0.095238</td>\n",
       "      <td>0.064103</td>\n",
       "      <td>0.102564</td>\n",
       "    </tr>\n",
       "    <tr>\n",
       "      <th>1</th>\n",
       "      <td>1</td>\n",
       "      <td>-0.179525</td>\n",
       "      <td>-0.079056</td>\n",
       "      <td>-0.19304</td>\n",
       "      <td>-0.095238</td>\n",
       "      <td>-0.269231</td>\n",
       "      <td>-0.230769</td>\n",
       "    </tr>\n",
       "    <tr>\n",
       "      <th>2</th>\n",
       "      <td>1</td>\n",
       "      <td>-0.112858</td>\n",
       "      <td>-0.143661</td>\n",
       "      <td>0.00696</td>\n",
       "      <td>-0.095238</td>\n",
       "      <td>-0.269231</td>\n",
       "      <td>-0.230769</td>\n",
       "    </tr>\n",
       "    <tr>\n",
       "      <th>3</th>\n",
       "      <td>1</td>\n",
       "      <td>-0.046191</td>\n",
       "      <td>0.103075</td>\n",
       "      <td>0.00696</td>\n",
       "      <td>-0.095238</td>\n",
       "      <td>0.064103</td>\n",
       "      <td>-0.230769</td>\n",
       "    </tr>\n",
       "    <tr>\n",
       "      <th>4</th>\n",
       "      <td>1</td>\n",
       "      <td>-0.043161</td>\n",
       "      <td>0.083143</td>\n",
       "      <td>-0.19304</td>\n",
       "      <td>-0.095238</td>\n",
       "      <td>-0.269231</td>\n",
       "      <td>-0.230769</td>\n",
       "    </tr>\n",
       "  </tbody>\n",
       "</table>\n",
       "</div>"
      ],
      "text/plain": [
       "   Unnamed: 0     price   lotsize  bedrooms   bathrms   stories  garagepl\n",
       "0           1 -0.158313  0.048092   0.00696 -0.095238  0.064103  0.102564\n",
       "1           1 -0.179525 -0.079056  -0.19304 -0.095238 -0.269231 -0.230769\n",
       "2           1 -0.112858 -0.143661   0.00696 -0.095238 -0.269231 -0.230769\n",
       "3           1 -0.046191  0.103075   0.00696 -0.095238  0.064103 -0.230769\n",
       "4           1 -0.043161  0.083143  -0.19304 -0.095238 -0.269231 -0.230769"
      ]
     },
     "execution_count": 4,
     "metadata": {},
     "output_type": "execute_result"
    }
   ],
   "source": [
    "#dropping the rows of the dataset that have \"yes\" or \"no\" attributes and normalizing the dataset,\n",
    "df = pd.read_csv('House.csv')\n",
    "df.drop(['driveway' , 'recroom' , 'fullbase' , 'gashw' , 'airco'  , 'prefarea'] , 1 , inplace=True)\n",
    "df['Unnamed: 0'] = (df['Unnamed: 0'] > 0)*1\n",
    "normalize(df)\n",
    "df.head()"
   ]
  },
  {
   "cell_type": "code",
   "execution_count": 5,
   "metadata": {},
   "outputs": [
    {
     "name": "stdout",
     "output_type": "stream",
     "text": [
      "(546, 6) (546, 1)\n"
     ]
    }
   ],
   "source": [
    "# convert the pandas dataframe to a numpy matrix and reshaping it according to our requirements\n",
    "Y = np.asmatrix(df.price)\n",
    "Y = Y.reshape(m , 1)\n",
    "df.drop('price' , axis = 1 , inplace=True)\n",
    "X = np.asmatrix(df)\n",
    "\n",
    "print(X.shape , Y.shape)"
   ]
  },
  {
   "cell_type": "code",
   "execution_count": 6,
   "metadata": {},
   "outputs": [],
   "source": [
    "#applying the normal equation for LWR to obtain the weights for a particular x -> vector of independent attributes\n",
    "W = normal_eqn_lwr(X , X[2] , Y , 10)"
   ]
  },
  {
   "cell_type": "code",
   "execution_count": 7,
   "metadata": {},
   "outputs": [
    {
     "name": "stdout",
     "output_type": "stream",
     "text": [
      "[[0.16516784]]\n",
      "[[0.02629187]]\n",
      "[[-0.02913232]]\n",
      "[[0.01482158]]\n",
      "[[-0.05486968]]\n",
      "[[-0.10170889]]\n",
      "[[0.04788238]]\n",
      "[[0.02416377]]\n",
      "[[-0.19364634]]\n",
      "[[0.01084089]]\n"
     ]
    }
   ],
   "source": [
    "for i in range(10):\n",
    "    W = normal_eqn_lwr(X , X[i] , Y , 0.2)\n",
    "    print(X[i].dot(W) - Y[i])"
   ]
  },
  {
   "cell_type": "code",
   "execution_count": null,
   "metadata": {},
   "outputs": [],
   "source": []
  },
  {
   "cell_type": "code",
   "execution_count": null,
   "metadata": {},
   "outputs": [],
   "source": []
  }
 ],
 "metadata": {
  "kernelspec": {
   "display_name": "Python 3",
   "language": "python",
   "name": "python3"
  },
  "language_info": {
   "codemirror_mode": {
    "name": "ipython",
    "version": 3
   },
   "file_extension": ".py",
   "mimetype": "text/x-python",
   "name": "python",
   "nbconvert_exporter": "python",
   "pygments_lexer": "ipython3",
   "version": "3.6.5"
  }
 },
 "nbformat": 4,
 "nbformat_minor": 2
}
