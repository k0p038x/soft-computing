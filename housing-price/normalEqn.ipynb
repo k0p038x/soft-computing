{
 "cells": [
  {
   "cell_type": "code",
   "execution_count": 1,
   "metadata": {},
   "outputs": [],
   "source": [
    "import numpy as np\n",
    "import pandas as pd"
   ]
  },
  {
   "cell_type": "code",
   "execution_count": 2,
   "metadata": {},
   "outputs": [
    {
     "name": "stdout",
     "output_type": "stream",
     "text": [
      "Data shape : (546, 13)\n"
     ]
    }
   ],
   "source": [
    "data = pd.read_csv('/home/chandu/Desktop/Sem6-Lab/SOC/data.csv')\n",
    "print(\"Data shape : \" + str(data.shape))\n"
   ]
  },
  {
   "cell_type": "code",
   "execution_count": 3,
   "metadata": {},
   "outputs": [],
   "source": [
    "for i in data:\n",
    "    if data[i].dtype == 'object':\n",
    "        data = data.drop([i], axis=1)\n",
    "\n",
    "ymin = data['price'].min()\n",
    "ymax = data['price'].max()\n",
    "std=data['price'].std()\n",
    "mean=data['price'].mean()"
   ]
  },
  {
   "cell_type": "code",
   "execution_count": 4,
   "metadata": {},
   "outputs": [],
   "source": [
    "X = data.iloc[:,2:].values.tolist()\n",
    "Y = data.iloc[:,1:2].values.tolist()"
   ]
  },
  {
   "cell_type": "code",
   "execution_count": 5,
   "metadata": {},
   "outputs": [
    {
     "name": "stdout",
     "output_type": "stream",
     "text": [
      "X shape : (546, 6)\n"
     ]
    }
   ],
   "source": [
    "X = np.array(X)\n",
    "Y = np.array(Y)\n",
    "col = np.ones((X.shape[0]))\n",
    "X = np.c_[X, col]\n",
    "\n",
    "print(\"X shape : \" + str(X.shape))"
   ]
  },
  {
   "cell_type": "code",
   "execution_count": 6,
   "metadata": {},
   "outputs": [
    {
     "name": "stdout",
     "output_type": "stream",
     "text": [
      "[[ 4.73343521e+00]\n",
      " [ 2.38848765e+03]\n",
      " [ 1.61480605e+04]\n",
      " [ 7.87944111e+03]\n",
      " [ 5.37195329e+03]\n",
      " [-2.06364013e+03]]\n"
     ]
    }
   ],
   "source": [
    "Xt = np.transpose(X)\n",
    "W = Xt.dot(X)\n",
    "W = np.linalg.inv(W)\n",
    "Z = Xt.dot(Y)\n",
    "W = W.dot(Z)\n",
    "print(W)"
   ]
  },
  {
   "cell_type": "code",
   "execution_count": 8,
   "metadata": {},
   "outputs": [
    {
     "name": "stdout",
     "output_type": "stream",
     "text": [
      "Error : [1.56106181e+08]\n"
     ]
    }
   ],
   "source": [
    "error = 0\n",
    "for i in range(0,len(Y)):\n",
    "    val = X[i].dot(W)\n",
    "    error = error + ((val - Y[i])**2)\n",
    "\n",
    "error = error / (2*len(Y))\n",
    "print(\"Error : \" + str(error))"
   ]
  },
  {
   "cell_type": "code",
   "execution_count": null,
   "metadata": {},
   "outputs": [],
   "source": []
  }
 ],
 "metadata": {
  "kernelspec": {
   "display_name": "Python 3",
   "language": "python",
   "name": "python3"
  },
  "language_info": {
   "codemirror_mode": {
    "name": "ipython",
    "version": 3
   },
   "file_extension": ".py",
   "mimetype": "text/x-python",
   "name": "python",
   "nbconvert_exporter": "python",
   "pygments_lexer": "ipython3",
   "version": "3.6.5"
  },
  "varInspector": {
   "cols": {
    "lenName": 16,
    "lenType": 16,
    "lenVar": 40
   },
   "kernels_config": {
    "python": {
     "delete_cmd_postfix": "",
     "delete_cmd_prefix": "del ",
     "library": "var_list.py",
     "varRefreshCmd": "print(var_dic_list())"
    },
    "r": {
     "delete_cmd_postfix": ") ",
     "delete_cmd_prefix": "rm(",
     "library": "var_list.r",
     "varRefreshCmd": "cat(var_dic_list()) "
    }
   },
   "types_to_exclude": [
    "module",
    "function",
    "builtin_function_or_method",
    "instance",
    "_Feature"
   ],
   "window_display": false
  }
 },
 "nbformat": 4,
 "nbformat_minor": 2
}
