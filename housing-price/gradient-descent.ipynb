{
 "cells": [
  {
   "cell_type": "code",
   "execution_count": 13,
   "metadata": {},
   "outputs": [],
   "source": [
    "import numpy as np\n",
    "import pandas as pd"
   ]
  },
  {
   "cell_type": "code",
   "execution_count": 14,
   "metadata": {},
   "outputs": [
    {
     "name": "stdout",
     "output_type": "stream",
     "text": [
      "Data shape : (546, 13)\n"
     ]
    }
   ],
   "source": [
    "data = pd.read_csv('/home/chandu/Desktop/Sem6-Lab/SOC/data.csv')\n",
    "print(\"Data shape : \" + str(data.shape))\n"
   ]
  },
  {
   "cell_type": "code",
   "execution_count": 15,
   "metadata": {},
   "outputs": [],
   "source": [
    "for i in data:\n",
    "    if data[i].dtype == 'object':\n",
    "        data = data.drop([i], axis=1)\n"
   ]
  },
  {
   "cell_type": "code",
   "execution_count": 16,
   "metadata": {},
   "outputs": [],
   "source": [
    "X = data.iloc[:,2:].values.tolist()\n",
    "Y = data.iloc[:,1].values.tolist()"
   ]
  },
  {
   "cell_type": "code",
   "execution_count": 17,
   "metadata": {},
   "outputs": [
    {
     "name": "stdout",
     "output_type": "stream",
     "text": [
      "X shape : (546, 6)\n",
      "(546,)\n"
     ]
    }
   ],
   "source": [
    "X = np.array(X)\n",
    "Y = np.array(Y)\n",
    "col = np.ones((X.shape[0]))\n",
    "X = np.c_[X, col]\n",
    "\n",
    "print(\"X shape : \" + str(X.shape))\n",
    "print(Y.shape)"
   ]
  },
  {
   "cell_type": "code",
   "execution_count": 19,
   "metadata": {},
   "outputs": [
    {
     "name": "stdout",
     "output_type": "stream",
     "text": [
      "[1.22305289e+01 2.55308866e-02 1.36134163e-02 2.08081896e-02\n",
      " 5.96154656e-03 7.14878473e-03]\n"
     ]
    }
   ],
   "source": [
    "epoch = 0\n",
    "alpha = 0.0000000001\n",
    "xaxis = []\n",
    "yaxis = []\n",
    "w = []\n",
    "for i in range(X.shape[1]):\n",
    "    w.append(0)\n",
    "W = np.array(w)\n",
    "while epoch < 10000:\n",
    "    \n",
    "    error = 0\n",
    "    hx  = X.dot(W)\n",
    "    dif = hx - Y\n",
    "    Xt = X.T\n",
    "    der = Xt.dot(dif)\n",
    "    der = der / X.shape[0]\n",
    "    der = (alpha) * der\n",
    "    W = W - der\n",
    "    error = 0\n",
    "    val = X.dot(W)\n",
    "    val = val - Y\n",
    "    for i in range(0,X.shape[0]):\n",
    "        error = error + (val[i]**2)\n",
    "    error /= X.shape[0]\n",
    "    xaxis.append(epoch)\n",
    "    yaxis.append(error)\n",
    "    epoch = epoch + 1\n",
    "\n",
    "print(W)"
   ]
  },
  {
   "cell_type": "code",
   "execution_count": 20,
   "metadata": {},
   "outputs": [
    {
     "data": {
      "image/png": "[encoded data removed]",
      "text/plain": [
       "<Figure size 432x288 with 1 Axes>"
      ]
     },
     "metadata": {},
     "output_type": "display_data"
    }
   ],
   "source": [
    "import matplotlib.pyplot as plt\n",
    "\n",
    "plt.plot(xaxis, yaxis)\n",
    "plt.show()"
   ]
  },
  {
   "cell_type": "code",
   "execution_count": null,
   "metadata": {},
   "outputs": [],
   "source": []
  }
 ],
 "metadata": {
  "kernelspec": {
   "display_name": "Python 3",
   "language": "python",
   "name": "python3"
  },
  "language_info": {
   "codemirror_mode": {
    "name": "ipython",
    "version": 3
   },
   "file_extension": ".py",
   "mimetype": "text/x-python",
   "name": "python",
   "nbconvert_exporter": "python",
   "pygments_lexer": "ipython3",
   "version": "3.6.5"
  },
  "varInspector": {
   "cols": {
    "lenName": 16,
    "lenType": 16,
    "lenVar": 40
   },
   "kernels_config": {
    "python": {
     "delete_cmd_postfix": "",
     "delete_cmd_prefix": "del ",
     "library": "var_list.py",
     "varRefreshCmd": "print(var_dic_list())"
    },
    "r": {
     "delete_cmd_postfix": ") ",
     "delete_cmd_prefix": "rm(",
     "library": "var_list.r",
     "varRefreshCmd": "cat(var_dic_list()) "
    }
   },
   "types_to_exclude": [
    "module",
    "function",
    "builtin_function_or_method",
    "instance",
    "_Feature"
   ],
   "window_display": false
  }
 },
 "nbformat": 4,
 "nbformat_minor": 2
}
