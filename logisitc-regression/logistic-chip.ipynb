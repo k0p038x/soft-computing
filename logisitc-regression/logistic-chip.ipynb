{
 "cells": [
  {
   "cell_type": "code",
   "execution_count": 1,
   "metadata": {
    "colab": {
     "base_uri": "https://localhost:8080/",
     "height": 415
    },
    "colab_type": "code",
    "id": "XxEyKtoJm0pH",
    "outputId": "2dc634b1-1b34-4332-d25f-fa028ebf8104"
   },
   "outputs": [
    {
     "data": {
      "text/plain": [
       "<Figure size 640x480 with 1 Axes>"
      ]
     },
     "metadata": {},
     "output_type": "display_data"
    },
    {
     "name": "stdout",
     "output_type": "stream",
     "text": [
      "(118, 3)\n"
     ]
    }
   ],
   "source": [
    "import numpy as np\n",
    "from tqdm import tqdm\n",
    "import os\n",
    "import math\n",
    "import matplotlib.pyplot as plt\n",
    "import random\n",
    "\n",
    "\n",
    "\n",
    "file = open(os.getcwd()+'/chip.txt', 'r')\n",
    "\n",
    "X = []\n",
    "Y = []\n",
    "for line in file:\n",
    "    if line[-1]=='\\n':\n",
    "        line = line[:-1]\n",
    "    line = str.split(line,\",\")\n",
    "    sample = []\n",
    "    sample.append(1)\n",
    "    for i in range(len(line)-1):\n",
    "        sample.append(float(line[i]))\n",
    "    X.append(sample)\n",
    "    Y.append(int(line[-1]))\n",
    "\n",
    "c = list(zip(X, Y))\n",
    "\n",
    "random.shuffle(c)\n",
    "\n",
    "X, Y = zip(*c)\n",
    "X = np.array(X)\n",
    "Y = np.array(Y)\n",
    "tr1 = []\n",
    "tr2 = []\n",
    "fa2 = []\n",
    "fa1 = []\n",
    "\n",
    "for i in range(X.shape[0]):\n",
    "    if Y[i] == 1:\n",
    "        tr1.append(X[i,1])\n",
    "        tr2.append(X[i,2])\n",
    "    else:\n",
    "        fa1.append(X[i,1])\n",
    "        fa2.append(X[i,2])\n",
    "\n",
    "\n",
    "import matplotlib.pyplot as plt\n",
    "\n",
    "fig = plt.figure()\n",
    "fig.suptitle('DataSet', fontsize=20)\n",
    "plt.plot(tr1, tr2, 'bo', label ='Marks')\n",
    "plt.plot(fa1, fa2, 'ro', label ='Marks')\n",
    "# plt.legend(loc='upper left')\n",
    "fig.savefig('chip-dset.jpg')\n",
    "\n",
    "plt.show()\n",
    "print(X.shape)"
   ]
  },
  {
   "cell_type": "code",
   "execution_count": 2,
   "metadata": {},
   "outputs": [
    {
     "name": "stdout",
     "output_type": "stream",
     "text": [
      "(118,)\n",
      "[1.         0.00217706 0.3360289  0.02704729]\n",
      "(82, 4)\n",
      "(36, 4)\n"
     ]
    }
   ],
   "source": [
    "dup = np.multiply(X[:,1], X[:,2])\n",
    "print(dup.shape)\n",
    "X = np.square(X)\n",
    "X = np.c_[X, dup]\n",
    "print(X[0])\n",
    "tot = X.shape[0]\n",
    "split = int(tot*.7)\n",
    "Xtest = X[split:]\n",
    "X = X[:split]\n",
    "Ytest = Y[split:]\n",
    "Y = Y[:split]\n",
    "print(X.shape)\n",
    "print(Xtest.shape)\n",
    "\n",
    "w = []\n",
    "for i in range(X.shape[1]):\n",
    "    w.append(0)\n",
    "W = np.array(w)\n"
   ]
  },
  {
   "cell_type": "code",
   "execution_count": 3,
   "metadata": {},
   "outputs": [
    {
     "name": "stderr",
     "output_type": "stream",
     "text": [
      "100%|██████████| 1000000/1000000 [01:18<00:00, 12708.62it/s]\n"
     ]
    },
    {
     "name": "stdout",
     "output_type": "stream",
     "text": [
      "0.49189244318168507\n",
      "[ 2.93241467 -6.3733485  -4.61493517 -0.77389178]\n"
     ]
    },
    {
     "data": {
      "image/png": "[encoded data removed]",
      "text/plain": [
       "<Figure size 432x288 with 1 Axes>"
      ]
     },
     "metadata": {},
     "output_type": "display_data"
    }
   ],
   "source": [
    "err = []\n",
    "ep = []\n",
    "epochs = 1\n",
    "alpha = 0.003\n",
    "\n",
    "m = X.shape[0]\n",
    "for i in tqdm(range(0,1000000)):\n",
    "    hx = X.dot(W)\n",
    "    hx = np.exp(-hx)\n",
    "    hx = 1 / ( 1 + hx)\n",
    "    dif = hx - Y\n",
    "    der = (X.T).dot(dif)\n",
    "    der = der / (X.shape[0])\n",
    "    W = W - (alpha * der)\n",
    "    epochs+=1\n",
    "    \n",
    "    error = 0\n",
    "    hx = X.dot(W)\n",
    "    hx = np.exp(-hx)\n",
    "    hx = 1 / ( 1 + hx)\n",
    "    for i in range(X.shape[0]):\n",
    "        if Y[i]==0:\n",
    "            error+=math.log(1-hx[i])\n",
    "        else:\n",
    "            error+=math.log(hx[i])\n",
    "    error/=m\n",
    "    error *=-1\n",
    "    err.append(error)\n",
    "    ep.append(epochs)\n",
    "\n",
    "print(error)\n",
    "print(W)\n",
    "plt.plot(ep,err, 'r')\n",
    "plt.show()"
   ]
  },
  {
   "cell_type": "code",
   "execution_count": 8,
   "metadata": {},
   "outputs": [
    {
     "name": "stdout",
     "output_type": "stream",
     "text": [
      "27 36\n"
     ]
    }
   ],
   "source": [
    "hx = Xtest.dot(W)\n",
    "hx = np.exp(-hx)\n",
    "hx = 1 / ( 1 + hx)\n",
    "count = 0\n",
    "for i in range(Xtest.shape[0]):\n",
    "    if round(hx[i])==Ytest[i]:\n",
    "        count +=1\n",
    "print(count, Ytest.shape[0])"
   ]
  }
 ],
 "metadata": {
  "colab": {
   "collapsed_sections": [],
   "name": "Untitled2.ipynb",
   "provenance": [],
   "version": "0.3.2"
  },
  "kernelspec": {
   "display_name": "Python 3",
   "language": "python",
   "name": "python3"
  },
  "language_info": {
   "codemirror_mode": {
    "name": "ipython",
    "version": 3
   },
   "file_extension": ".py",
   "mimetype": "text/x-python",
   "name": "python",
   "nbconvert_exporter": "python",
   "pygments_lexer": "ipython3",
   "version": "3.6.5"
  },
  "varInspector": {
   "cols": {
    "lenName": 16,
    "lenType": 16,
    "lenVar": 40
   },
   "kernels_config": {
    "python": {
     "delete_cmd_postfix": "",
     "delete_cmd_prefix": "del ",
     "library": "var_list.py",
     "varRefreshCmd": "print(var_dic_list())"
    },
    "r": {
     "delete_cmd_postfix": ") ",
     "delete_cmd_prefix": "rm(",
     "library": "var_list.r",
     "varRefreshCmd": "cat(var_dic_list()) "
    }
   },
   "types_to_exclude": [
    "module",
    "function",
    "builtin_function_or_method",
    "instance",
    "_Feature"
   ],
   "window_display": false
  }
 },
 "nbformat": 4,
 "nbformat_minor": 1
}
