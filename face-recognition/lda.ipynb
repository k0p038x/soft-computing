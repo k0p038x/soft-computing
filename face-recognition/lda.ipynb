{
 "cells": [
  {
   "cell_type": "markdown",
   "metadata": {},
   "source": [
    "<h2>Face Recognition using Linear Discriminant Analysis</h2>\n"
   ]
  },
  {
   "cell_type": "code",
   "execution_count": 1,
   "metadata": {},
   "outputs": [],
   "source": [
    "import os\n",
    "import matplotlib.pyplot as plt\n",
    "import numpy as np\n",
    "import cv2\n",
    "from tqdm import tqdm_notebook as tqdm\n",
    "import random"
   ]
  },
  {
   "cell_type": "code",
   "execution_count": 2,
   "metadata": {},
   "outputs": [
    {
     "data": {
      "application/vnd.jupyter.widget-view+json": {
       "model_id": "f8cc5cfbf261415bb03ec71f7e69bd9f",
       "version_major": 2,
       "version_minor": 0
      },
      "text/plain": [
       "HBox(children=(IntProgress(value=0, max=40), HTML(value='')))"
      ]
     },
     "metadata": {},
     "output_type": "display_data"
    },
    {
     "name": "stdout",
     "output_type": "stream",
     "text": [
      "\n",
      "(400, 14400)\n",
      "(400,)\n"
     ]
    }
   ],
   "source": [
    "label = -1\n",
    "\n",
    "train_images = []\n",
    "train_labels = []\n",
    "\n",
    "for i in tqdm(os.listdir('images/')):\n",
    "    label+=1\n",
    "    for nm in os.listdir('images/'+i):\n",
    "        img = cv2.imread('images/'+i+'/'+nm, 0)\n",
    "        img = np.ravel(img)\n",
    "        train_images.append(img)\n",
    "        train_labels.append(label)\n",
    "\n",
    "c = list(zip(train_images, train_labels))\n",
    "random.shuffle(c)\n",
    "train_images, train_labels = zip(*c)\n",
    "\n",
    "train_images = np.array(train_images)\n",
    "train_labels = np.array(train_labels)\n",
    "print(train_images.shape)\n",
    "print(train_labels.shape)\n"
   ]
  },
  {
   "cell_type": "code",
   "execution_count": 3,
   "metadata": {},
   "outputs": [
    {
     "name": "stdout",
     "output_type": "stream",
     "text": [
      "(14400, 280)\n",
      "(120,)\n"
     ]
    }
   ],
   "source": [
    "\n",
    "idx = int(len(train_images)*.7)\n",
    "test_images = train_images[:][idx:]\n",
    "test_labels = train_labels[idx:]\n",
    "\n",
    "train_images = train_images[:][:idx]\n",
    "train_labels = train_labels[:idx]\n",
    "\n",
    "train_images = np.transpose(train_images)\n",
    "\n",
    "print(train_images.shape)\n",
    "print(test_labels.shape)"
   ]
  },
  {
   "cell_type": "code",
   "execution_count": 4,
   "metadata": {},
   "outputs": [
    {
     "name": "stdout",
     "output_type": "stream",
     "text": [
      "(280, 280)\n"
     ]
    }
   ],
   "source": [
    "train_mean = np.mean(train_images, axis=1)\n",
    "train_mean = np.reshape(train_mean, (train_mean.shape[0], 1))\n",
    "delta = train_images - train_mean\n",
    "cov = np.cov(delta.T)\n",
    "print(cov.shape)"
   ]
  },
  {
   "cell_type": "code",
   "execution_count": 5,
   "metadata": {},
   "outputs": [
    {
     "name": "stdout",
     "output_type": "stream",
     "text": [
      "(70, 280)\n"
     ]
    }
   ],
   "source": [
    "k = 70\n",
    "\n",
    "eig_values, eig_vectors = np.linalg.eig(cov)\n",
    "eig_values *= -1\n",
    "\n",
    "idx = np.argpartition(eig_values, k)\n",
    "ev = eig_vectors[idx[:k]]\n",
    "print(ev.shape)"
   ]
  },
  {
   "cell_type": "code",
   "execution_count": 6,
   "metadata": {},
   "outputs": [
    {
     "name": "stdout",
     "output_type": "stream",
     "text": [
      "(70, 14400)\n",
      "(70, 280)\n"
     ]
    }
   ],
   "source": [
    "eig_faces = np.dot(ev, delta.T)\n",
    "print(eig_faces.shape)\n",
    "\n",
    "sig = np.dot(eig_faces, delta)\n",
    "print(sig.shape)"
   ]
  },
  {
   "cell_type": "markdown",
   "metadata": {},
   "source": [
    "<h3>Steps</h3>\n",
    "<ol>\n",
    "    <li> Dividing the data into class </li>\n",
    "    <li> Calculation of mean </li>\n",
    "</ol>\n"
   ]
  },
  {
   "cell_type": "code",
   "execution_count": 7,
   "metadata": {},
   "outputs": [],
   "source": [
    "# Calculation of mean of each class and total mean\n",
    "\n",
    "class_data = []\n",
    "for i in range(0,40):\n",
    "    tmp = []\n",
    "    class_data.append(tmp)\n",
    "\n",
    "for i in range(sig.shape[1]):\n",
    "    label = train_labels[i]\n",
    "    class_data[label].append(sig[:,i])\n",
    "\n",
    "for i in range(0,40):\n",
    "    class_data[i] = np.array(class_data[i])\n",
    "class_data = np.array(class_data)\n",
    "\n",
    "\n",
    "class_mean = []\n",
    "for i in range(0,40):\n",
    "    class_mean.append(np.mean(class_data[i], axis=0))\n",
    "\n",
    "class_mean = np.array(class_mean)\n",
    "\n",
    "total_mean = np.mean(sig, axis = 1)\n",
    "total_mean = np.array(total_mean)\n",
    "total_mean = np.reshape(total_mean, (total_mean.shape[0], 1))\n",
    "    \n",
    "    "
   ]
  },
  {
   "cell_type": "markdown",
   "metadata": {},
   "source": [
    "<h3> Steps</h3>\n",
    "<ol>\n",
    "    <li> Calculate SW and SB matrix </li>\n",
    "    <li> Criterion function </li>\n",
    "</ol>"
   ]
  },
  {
   "cell_type": "code",
   "execution_count": 8,
   "metadata": {},
   "outputs": [
    {
     "name": "stdout",
     "output_type": "stream",
     "text": [
      "Shape of SW : (70, 70)\n",
      "Shape of SB : (70, 70)\n"
     ]
    }
   ],
   "source": [
    "# Calculation of SW and SB\n",
    "\n",
    "sw = np.zeros([70, 70])\n",
    "for i in range(0,40):\n",
    "    sw = sw + np.dot((class_data[i] - class_mean[i]).T, (class_data[i] - class_mean[i]))\n",
    "print(f\"Shape of SW : {sw.shape}\")\n",
    "\n",
    "sb = np.zeros([70, 70])\n",
    "for i in range(0,40):\n",
    "    sb = sb + np.dot((class_mean[i] - total_mean).T, (class_mean[i] - total_mean))\n",
    "print(f\"Shape of SB : {sb.shape}\")\n",
    "\n",
    "J = np.dot(np.linalg.inv(sw), sb)"
   ]
  },
  {
   "cell_type": "markdown",
   "metadata": {},
   "source": [
    "<h3>Steps</h3>\n",
    "<ol>\n",
    "    <li> Eigen vector and Eigen values of the Criterion function </li>\n",
    "    <li> Construct feature vectors </li>\n",
    "   <li> Generate the fisher faces (FF) </li>\n",
    "</ol>"
   ]
  },
  {
   "cell_type": "code",
   "execution_count": 9,
   "metadata": {},
   "outputs": [
    {
     "name": "stdout",
     "output_type": "stream",
     "text": [
      "Shape of eigen vectors : (70, 70)\n",
      "Shape of feature vectors: (70, 40)\n"
     ]
    }
   ],
   "source": [
    "# Best Principal Components\n",
    "\n",
    "m = 40\n",
    "\n",
    "eig_values, eig_vectors = np.linalg.eig(J)\n",
    "print(f\"Shape of eigen vectors : {eig_vectors.shape}\")\n",
    "eig_values *= -1\n",
    "\n",
    "idx = np.argpartition(eig_values, m)\n",
    "ev = eig_vectors[idx[:m]]\n",
    "ev = ev.T\n",
    "print(f\"Shape of feature vectors: {ev.shape}\")"
   ]
  },
  {
   "cell_type": "code",
   "execution_count": 10,
   "metadata": {},
   "outputs": [
    {
     "name": "stdout",
     "output_type": "stream",
     "text": [
      "Shape of FF : (40, 280)\n"
     ]
    }
   ],
   "source": [
    "# Generating Fisher Faces {FF}\n",
    "\n",
    "fisher_face = np.dot(ev.T, sig)\n",
    "print(f\"Shape of FF : {fisher_face.shape}\")"
   ]
  },
  {
   "cell_type": "code",
   "execution_count": 11,
   "metadata": {},
   "outputs": [
    {
     "data": {
      "application/vnd.jupyter.widget-view+json": {
       "model_id": "fe4ae82d0824435e831d328a5d567eec",
       "version_major": 2,
       "version_minor": 0
      },
      "text/plain": [
       "HBox(children=(IntProgress(value=0, max=120), HTML(value='')))"
      ]
     },
     "metadata": {},
     "output_type": "display_data"
    },
    {
     "name": "stdout",
     "output_type": "stream",
     "text": [
      "\n",
      "Accuracy : 91.66666666666667 at k = 70 and m = 40\n"
     ]
    }
   ],
   "source": [
    "# Testing\n",
    "count = 0\n",
    "for j in tqdm(range(test_labels.shape[0])):\n",
    "    image = test_images[j]\n",
    "    image = image - np.mean(train_images, axis=1)\n",
    "    proj_test_face = np.dot(eig_faces, image)\n",
    "    proj_fisher_face = np.dot(ev.T, proj_test_face)\n",
    "    \n",
    "    dist = []\n",
    "    for i in range(fisher_face.shape[1]):\n",
    "        dist.append(np.linalg.norm(proj_fisher_face - fisher_face[:,i]))\n",
    "    \n",
    "    index = np.where(dist == np.amin(dist))\n",
    "    index = index[0]\n",
    "    \n",
    "    if train_labels[index] == test_labels[j]:\n",
    "#         plt.subplot(1,2,1)\n",
    "#         img = np.reshape(train_images[:,index], [120, 120])\n",
    "#         plt.imshow(img, cmap='gray')\n",
    "#         plt.subplot(1,2,2)\n",
    "#         img = np.reshape(test_images[j], [120, 120])\n",
    "#         plt.imshow(img, cmap='gray')\n",
    "#         plt.show()\n",
    "        count+=1\n",
    "\n",
    "print(f\"Accuracy : {count*100/ test_labels.shape[0]} at k = {70} and m = {40}\")"
   ]
  }
 ],
 "metadata": {
  "kernelspec": {
   "display_name": "Python 3",
   "language": "python",
   "name": "python3"
  },
  "language_info": {
   "codemirror_mode": {
    "name": "ipython",
    "version": 3
   },
   "file_extension": ".py",
   "mimetype": "text/x-python",
   "name": "python",
   "nbconvert_exporter": "python",
   "pygments_lexer": "ipython3",
   "version": "3.6.5"
  },
  "varInspector": {
   "cols": {
    "lenName": 16,
    "lenType": 16,
    "lenVar": 40
   },
   "kernels_config": {
    "python": {
     "delete_cmd_postfix": "",
     "delete_cmd_prefix": "del ",
     "library": "var_list.py",
     "varRefreshCmd": "print(var_dic_list())"
    },
    "r": {
     "delete_cmd_postfix": ") ",
     "delete_cmd_prefix": "rm(",
     "library": "var_list.r",
     "varRefreshCmd": "cat(var_dic_list()) "
    }
   },
   "types_to_exclude": [
    "module",
    "function",
    "builtin_function_or_method",
    "instance",
    "_Feature"
   ],
   "window_display": false
  }
 },
 "nbformat": 4,
 "nbformat_minor": 2
}
