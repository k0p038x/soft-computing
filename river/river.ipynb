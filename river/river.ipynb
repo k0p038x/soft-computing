{
 "cells": [
  {
   "cell_type": "code",
   "execution_count": 1,
   "metadata": {},
   "outputs": [],
   "source": [
    "import os\n",
    "import numpy as np\n",
    "from PIL import Image\n",
    "import matplotlib.image as mpimg\n",
    "import random\n",
    "import cv2\n",
    "from tqdm import tqdm_notebook as tqdm"
   ]
  },
  {
   "cell_type": "code",
   "execution_count": 2,
   "metadata": {},
   "outputs": [
    {
     "name": "stdout",
     "output_type": "stream",
     "text": [
      "(4, 512, 512)\n",
      "(512, 512)\n"
     ]
    }
   ],
   "source": [
    "\n",
    "image = []\n",
    "\n",
    "for i in range(1,5):\n",
    "    inp = Image.open('images/'+str(i)+'.gif')\n",
    "    arr = np.asarray(inp)\n",
    "    image.append(arr)\n",
    "\n",
    "image = np.array(image)\n",
    "print(image.shape)\n",
    "\n",
    "out = mpimg.imread('images/PDCV3.jpeg')\n",
    "out = np.array(out)\n",
    "print(out.shape)\n",
    "\n"
   ]
  },
  {
   "cell_type": "code",
   "execution_count": 3,
   "metadata": {},
   "outputs": [],
   "source": [
    "# Getting river and non-river points\n",
    "\n",
    "river_points = []\n",
    "non_river_points = []\n",
    "\n",
    "\n",
    "for i in range(512):\n",
    "    for j in range(512):\n",
    "        if out[i][j]==0:\n",
    "            non_river_points.append(tuple([i,j]))\n",
    "        else:\n",
    "            river_points.append(tuple([i,j]))"
   ]
  },
  {
   "cell_type": "code",
   "execution_count": 4,
   "metadata": {},
   "outputs": [],
   "source": [
    "random.shuffle(river_points)\n",
    "random.shuffle(non_river_points)\n",
    "river_points = np.array(river_points[:50])\n",
    "non_river_points = np.array(non_river_points[:100])"
   ]
  },
  {
   "cell_type": "code",
   "execution_count": 5,
   "metadata": {},
   "outputs": [],
   "source": [
    "river_image = []\n",
    "non_river_image = []\n",
    "\n",
    "\n",
    "status = [river_image.append([image[0][i][j], image[1][i][j], image[2][i][j], image[3][i][j]]) for i,j in river_points]\n",
    "status = [non_river_image.append([image[0][i][j], image[1][i][j], image[2][i][j], image[3][i][j]]) for i,j in non_river_points]\n",
    "\n",
    "river_image = np.array(river_image)\n",
    "non_river_image = np.array(non_river_image)"
   ]
  },
  {
   "cell_type": "code",
   "execution_count": 6,
   "metadata": {},
   "outputs": [],
   "source": [
    "# Mean of river and non-river points\n",
    "\n",
    "t1 = np.mean(river_image, axis = 0)\n",
    "t2 = np.mean(non_river_image, axis = 0)\n",
    "\n",
    "river_image = river_image.astype('float64') - t1\n",
    "non_river_image = non_river_image.astype('float64') - t2\n",
    "\n",
    "river_image = np.transpose(river_image)\n",
    "non_river_image = np.transpose(non_river_image)"
   ]
  },
  {
   "cell_type": "code",
   "execution_count": 7,
   "metadata": {},
   "outputs": [
    {
     "name": "stdout",
     "output_type": "stream",
     "text": [
      "Shape of covariance matrix : (4, 4)\n"
     ]
    }
   ],
   "source": [
    "# Co-variance\n",
    "cov_river = np.cov(river_image)\n",
    "cov_non_river = np.cov(non_river_image)\n",
    "print(f\"Shape of covariance matrix : {cov_river.shape}\")"
   ]
  },
  {
   "cell_type": "code",
   "execution_count": 8,
   "metadata": {},
   "outputs": [
    {
     "data": {
      "application/vnd.jupyter.widget-view+json": {
       "model_id": "910e32370be344619dfff3629aacbe89",
       "version_major": 2,
       "version_minor": 0
      },
      "text/plain": [
       "HBox(children=(IntProgress(value=0, max=512), HTML(value='')))"
      ]
     },
     "metadata": {},
     "output_type": "display_data"
    },
    {
     "name": "stdout",
     "output_type": "stream",
     "text": [
      "\n"
     ]
    }
   ],
   "source": [
    "# River point or non-river point\n",
    "P1 = 0.3\n",
    "P2 = 0.7\n",
    "\n",
    "t1 = np.reshape(t1, (4,1))\n",
    "t2 = np.reshape(t2, (4,1))\n",
    "\n",
    "inv_river = np.linalg.inv(cov_river)\n",
    "inv_non_river = np.linalg.inv(cov_non_river)\n",
    "\n",
    "det_river = np.linalg.det(cov_river)\n",
    "det_non_river = np.linalg.det(cov_non_river)\n",
    "\n",
    "for i in tqdm(range(0,512)):\n",
    "    for j in range(0,512):\n",
    "        data = [image[0][i][j], image[1][i][j], image[2][i][j], image[3][i][j]]\n",
    "        data = np.reshape(data, (4,1))\n",
    "        d1 = data-t1\n",
    "        d2 = data-t2\n",
    "        river_class = np.dot(np.dot(d1.T, inv_river), d1)\n",
    "        non_river_class = np.dot(np.dot(d2.T, inv_non_river), d2)\n",
    "        \n",
    "        p1 = (-0.5/det_river)*np.exp(river_class)\n",
    "        p2 = (-0.5/det_non_river)*np.exp(non_river_class)\n",
    "        \n",
    "        if p1*P1 >= p2*P2:\n",
    "            out[i][j] = 255\n",
    "        else:\n",
    "            out[i][j] = 0"
   ]
  },
  {
   "cell_type": "code",
   "execution_count": 10,
   "metadata": {},
   "outputs": [
    {
     "data": {
      "image/png": "[encoded data removed]",
      "text/plain": [
       "<Figure size 432x288 with 1 Axes>"
      ]
     },
     "metadata": {},
     "output_type": "display_data"
    }
   ],
   "source": [
    "import matplotlib.pyplot as plt\n",
    "\n",
    "plt.imshow(out, cmap='gray')\n",
    "cv2.imwrite('out1.png', out)\n",
    "plt.show()"
   ]
  }
 ],
 "metadata": {
  "kernelspec": {
   "display_name": "Python 3",
   "language": "python",
   "name": "python3"
  },
  "language_info": {
   "codemirror_mode": {
    "name": "ipython",
    "version": 3
   },
   "file_extension": ".py",
   "mimetype": "text/x-python",
   "name": "python",
   "nbconvert_exporter": "python",
   "pygments_lexer": "ipython3",
   "version": "3.6.5"
  },
  "varInspector": {
   "cols": {
    "lenName": 16,
    "lenType": 16,
    "lenVar": 40
   },
   "kernels_config": {
    "python": {
     "delete_cmd_postfix": "",
     "delete_cmd_prefix": "del ",
     "library": "var_list.py",
     "varRefreshCmd": "print(var_dic_list())"
    },
    "r": {
     "delete_cmd_postfix": ") ",
     "delete_cmd_prefix": "rm(",
     "library": "var_list.r",
     "varRefreshCmd": "cat(var_dic_list()) "
    }
   },
   "types_to_exclude": [
    "module",
    "function",
    "builtin_function_or_method",
    "instance",
    "_Feature"
   ],
   "window_display": false
  }
 },
 "nbformat": 4,
 "nbformat_minor": 2
}
